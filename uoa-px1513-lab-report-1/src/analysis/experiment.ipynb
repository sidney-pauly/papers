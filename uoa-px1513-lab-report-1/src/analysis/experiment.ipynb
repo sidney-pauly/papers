{
 "cells": [
  {
   "cell_type": "code",
   "execution_count": 180,
   "metadata": {},
   "outputs": [],
   "source": [
    "import numpy as np\n",
    "import pandas as pd\n",
    "import matplotlib.pyplot as plt\n",
    "import math\n",
    "import tikzplotlib"
   ]
  },
  {
   "cell_type": "markdown",
   "metadata": {},
   "source": [
    "1. Experiment: measure resistance of different resistors"
   ]
  },
  {
   "cell_type": "code",
   "execution_count": 181,
   "metadata": {},
   "outputs": [],
   "source": [
    "experiment1 = pd.read_csv(\"../data/experiment1_data.csv\")\n",
    "\n",
    "current = experiment1['current'].values\n",
    "time = experiment1['time'].values\n",
    "\n",
    "n = 50\n",
    "\n",
    "perOscillation = time/n\n",
    "\n",
    "normalized = (1/perOscillation)**2\n",
    "\n",
    "experiment1['Frequency'] = perOscillation\n",
    "experiment1['Frequency^2'] = normalized\n",
    "\n",
    "experiment1.to_latex(\"./result.tex\", index=False, label='date_raw', position='H')"
   ]
  },
  {
   "cell_type": "code",
   "execution_count": 199,
   "metadata": {},
   "outputs": [],
   "source": [
    "\n",
    "\n",
    "slope, intercept = np.polyfit(current, normalized, 1)\n",
    "p = np.poly1d([slope, intercept])\n",
    "\n",
    "error = normalized - p(current)\n",
    "std = np.std(error)\n",
    "\n",
    "slope_frame = pd.DataFrame()\n",
    "\n",
    "slope_frame['Slope'] = [slope]\n",
    "slope_frame['Intercept'] = [intercept]\n",
    "slope_frame['Standard deviation'] = [std]\n",
    "slope_frame['Standard deviation(%)'] = [(std/slope)*100]\n",
    "\n",
    "\n",
    "slope_frame.to_latex(\"./slope.tex\", index=False, label='slope', position='H')\n",
    "\n"
   ]
  },
  {
   "cell_type": "code",
   "execution_count": 192,
   "metadata": {},
   "outputs": [
    {
     "data": {
      "image/png": "[encoded data removed]",
      "text/plain": [
       "<Figure size 432x288 with 1 Axes>"
      ]
     },
     "metadata": {
      "needs_background": "light"
     },
     "output_type": "display_data"
    }
   ],
   "source": [
    "fig, ax = plt.subplots()\n",
    "\n",
    "\n",
    "ax.plot(current, normalized, label=\"time/current\", marker='x', ls='none')\n",
    "\n",
    "xrange = [0, 2.5]\n",
    "\n",
    "ax.plot(xrange ,p(xrange),\"--\")\n",
    "\n",
    "plt.legend()\n",
    "\n",
    "ax.set(xlabel='Current (i) in A', ylabel='frequency (T^-2)',\n",
    "    title='Current vs. Frequency')\n",
    "\n",
    "ax.set_xlim(xrange)\n",
    "ax.set_ylim(0, 50)\n",
    "\n",
    "ax.grid()\n",
    "\n",
    "tikzplotlib.save(\"time_vs_current.tex\")"
   ]
  },
  {
   "cell_type": "code",
   "execution_count": null,
   "metadata": {},
   "outputs": [],
   "source": [
    "# magnetic_constant = 4*math.pi*1e-7\n",
    "# coils = 130\n",
    "\n",
    "\n",
    "k = 7.45e-4\n",
    "expected_magnetic_field_earth = 16.5e-6\n",
    "\n",
    "dimensions = pd.read_csv(\"../data/magnet_dimensions.csv\")\n",
    "\n",
    "l = dimensions[\"l\"].values\n",
    "a = dimensions[\"a\"].values\n",
    "m = dimensions[\"m\"].values\n",
    "\n",
    "inertia = np.mean(m*(l**2+a**2)/12)\n",
    "\n",
    "dipoleMoment = gradient*5*math.pi**2*inertia/k\n",
    "\n",
    "magnetic_field_measured = k*intercept/slope\n",
    "\n",
    "ratio = magnetic_field_measured/expected_magnetic_field_earth\n",
    "\n",
    "consts = pd.DataFrame()\n",
    "consts['Helmholz coil constant'] = [k]\n",
    "consts['Magnet length (l)'] = np.mean(l)\n",
    "consts['Magnet width (w)'] = np.mean(a)\n",
    "consts['Magnet mass (m)'] = np.mean(m)\n",
    "\n",
    "consts.to_latex('further_const.tex', index=False, label='further_consts', position='H')\n",
    "\n",
    "final_res = pd.DataFrame()\n",
    "final_res['Intertia (I)'] = [inertia]\n",
    "final_res['Dipole Moment'] = [dipoleMoment]\n",
    "final_res['Earth magnetic field (expected)'] = [expected_magnetic_field_earth]\n",
    "final_res['Earth magnetic field (measured)'] = [magnetic_field_measured]\n",
    "final_res['Error'] = [ratio]\n",
    "\n",
    "\n",
    "final_res.to_latex('final_result.tex', index=False, label='end_result', position='H')\n",
    "\n",
    "\n"
   ]
  }
 ],
 "metadata": {
  "interpreter": {
   "hash": "eeb8501165d9195a65aab6b59338f8cca536736c6287d5e2aeba93270a598879"
  },
  "kernelspec": {
   "display_name": "Python 3.9.7 64-bit",
   "language": "python",
   "name": "python3"
  },
  "language_info": {
   "codemirror_mode": {
    "name": "ipython",
    "version": 3
   },
   "file_extension": ".py",
   "mimetype": "text/x-python",
   "name": "python",
   "nbconvert_exporter": "python",
   "pygments_lexer": "ipython3",
   "version": "3.9.7"
  },
  "orig_nbformat": 4
 },
 "nbformat": 4,
 "nbformat_minor": 2
}
